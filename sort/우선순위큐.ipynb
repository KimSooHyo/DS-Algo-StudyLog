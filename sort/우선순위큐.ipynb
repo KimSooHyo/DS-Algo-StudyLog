{
 "cells": [
  {
   "cell_type": "code",
   "execution_count": 1,
   "id": "6856fd62",
   "metadata": {},
   "outputs": [],
   "source": [
    "import heapq"
   ]
  },
  {
   "cell_type": "code",
   "execution_count": 7,
   "id": "8a8c3109",
   "metadata": {},
   "outputs": [],
   "source": [
    "#빈 힙 생성\n",
    "heap = []"
   ]
  },
  {
   "cell_type": "code",
   "execution_count": 8,
   "id": "f2c8fbbe",
   "metadata": {},
   "outputs": [],
   "source": [
    "#값을 우선순위 큐에 삽입\n",
    "heapq.heappush(heap, 10)\n",
    "heapq.heappush(heap, 5)\n",
    "heapq.heappush(heap, 20)\n",
    "heapq.heappush(heap, 1)"
   ]
  },
  {
   "cell_type": "code",
   "execution_count": 9,
   "id": "a0e43f97",
   "metadata": {},
   "outputs": [
    {
     "name": "stdout",
     "output_type": "stream",
     "text": [
      "[1, 5, 20, 10]\n"
     ]
    }
   ],
   "source": [
    "#현재 우선순위 큐의 상태 출력\n",
    "print(heap)"
   ]
  },
  {
   "cell_type": "code",
   "execution_count": 10,
   "id": "45707da1",
   "metadata": {},
   "outputs": [
    {
     "name": "stdout",
     "output_type": "stream",
     "text": [
      "1\n"
     ]
    }
   ],
   "source": [
    "#가장 작은 요소 확인 및 제거\n",
    "print(heapq.heappop(heap))\n"
   ]
  },
  {
   "cell_type": "code",
   "execution_count": 11,
   "id": "0ccf2c07",
   "metadata": {},
   "outputs": [
    {
     "name": "stdout",
     "output_type": "stream",
     "text": [
      "[5, 10, 20]\n"
     ]
    }
   ],
   "source": [
    "print(heap)"
   ]
  },
  {
   "cell_type": "code",
   "execution_count": 12,
   "id": "958c2803",
   "metadata": {},
   "outputs": [
    {
     "name": "stdout",
     "output_type": "stream",
     "text": [
      "5\n"
     ]
    }
   ],
   "source": [
    "print(heapq.heappop(heap))"
   ]
  },
  {
   "cell_type": "code",
   "execution_count": 13,
   "id": "56ab3dbd",
   "metadata": {},
   "outputs": [
    {
     "name": "stdout",
     "output_type": "stream",
     "text": [
      "[10, 20]\n"
     ]
    }
   ],
   "source": [
    "print(heap)"
   ]
  },
  {
   "cell_type": "markdown",
   "id": "8660fe95",
   "metadata": {},
   "source": [
    "데이터 자체에 우선순위를 직접 정하고 싶다면 튜플 형태로 (우선 순위, 데이터)를 heappush() 메소드에 전달하면 됨"
   ]
  },
  {
   "cell_type": "code",
   "execution_count": 18,
   "id": "d259667a",
   "metadata": {},
   "outputs": [],
   "source": [
    "heap2 = []\n",
    "heapq.heappush(heap2, (3, 'A'))\n",
    "heapq.heappush(heap2, (1, 'B'))\n",
    "heapq.heappush(heap2, (10, 'C'))\n",
    "heapq.heappush(heap2, (2, 'D'))\n",
    "\n"
   ]
  },
  {
   "cell_type": "code",
   "execution_count": 19,
   "id": "d15df058",
   "metadata": {},
   "outputs": [
    {
     "data": {
      "text/plain": [
       "[(1, 'B'), (2, 'D'), (10, 'C'), (3, 'A')]"
      ]
     },
     "execution_count": 19,
     "metadata": {},
     "output_type": "execute_result"
    }
   ],
   "source": [
    "heap2"
   ]
  },
  {
   "cell_type": "markdown",
   "id": "ceff2ae6",
   "metadata": {},
   "source": [
    "핵심 개념: heapq는 최소 힙(min-heap)\n",
    "최소 힙의 조건은 항상 루트(인덱스 0)에 가장 작은 값이 오도록 유지하는 것이지,\n",
    "\n",
    "전체 리스트를 정렬된 상태로 유지하는 것이 아닙니다"
   ]
  },
  {
   "cell_type": "markdown",
   "id": "1e9aa488",
   "metadata": {},
   "source": [
    "### 값이 클수록 우선순위가 높게 하려면?\n",
    "\n",
    "값을 푸시할 때 -1을 곱하고 값을 팝할 때는 팝한 값에 -1을 곱해서 사용하면 됨"
   ]
  },
  {
   "cell_type": "code",
   "execution_count": 20,
   "id": "d6b51601",
   "metadata": {},
   "outputs": [],
   "source": [
    "#maxheap을 사용하려면 값에 대한 부호를 바꿔야함\n",
    "class Maxheap:\n",
    "    def __init__(self):\n",
    "        self.heap = []\n",
    "        \n",
    "    def push(self, value):\n",
    "        heapq.heappush(self.heap, -value)\n",
    "        \n",
    "    def pop(self):\n",
    "        return -heapq.heappop(self.heap)\n"
   ]
  },
  {
   "cell_type": "markdown",
   "id": "de2975f6",
   "metadata": {},
   "source": [
    "### 값을 한꺼번에 우선순위 큐에 넣으려면?\n",
    "\n",
    "heapify() 메소드 사용"
   ]
  },
  {
   "cell_type": "code",
   "execution_count": 21,
   "id": "629c94c1",
   "metadata": {},
   "outputs": [],
   "source": [
    "#우선순위와 작업을 포함하는 리스트 생성\n",
    "tasks = [(3, \"task A\"), (1, \"task C\"), (2, \"task B\")]"
   ]
  },
  {
   "cell_type": "code",
   "execution_count": 22,
   "id": "61c4ba96",
   "metadata": {},
   "outputs": [],
   "source": [
    "#리스트를 힙으로 변환\n",
    "heapq.heapify(tasks)"
   ]
  },
  {
   "cell_type": "code",
   "execution_count": 23,
   "id": "cfda06b2",
   "metadata": {},
   "outputs": [],
   "source": [
    "#추가 작업 삽입\n",
    "heapq.heappush(tasks, (0, \"task D\"))"
   ]
  },
  {
   "cell_type": "code",
   "execution_count": 24,
   "id": "bc9a50ff",
   "metadata": {},
   "outputs": [
    {
     "name": "stdout",
     "output_type": "stream",
     "text": [
      "[(0, 'task D'), (1, 'task C'), (2, 'task B'), (3, 'task A')]\n"
     ]
    }
   ],
   "source": [
    "#현재 힙의 상태 출력\n",
    "print(tasks)"
   ]
  },
  {
   "cell_type": "code",
   "execution_count": 25,
   "id": "b66a6c9f",
   "metadata": {},
   "outputs": [
    {
     "name": "stdout",
     "output_type": "stream",
     "text": [
      "(0, 'task D')\n",
      "[(1, 'task C'), (3, 'task A'), (2, 'task B')]\n"
     ]
    }
   ],
   "source": [
    "#우선순위가 가장 높은 작업부터 팝\n",
    "print(heapq.heappop(tasks))\n",
    "print(tasks)"
   ]
  },
  {
   "cell_type": "code",
   "execution_count": null,
   "id": "aa93a738",
   "metadata": {},
   "outputs": [],
   "source": []
  }
 ],
 "metadata": {
  "kernelspec": {
   "display_name": ".conda",
   "language": "python",
   "name": "python3"
  },
  "language_info": {
   "codemirror_mode": {
    "name": "ipython",
    "version": 3
   },
   "file_extension": ".py",
   "mimetype": "text/x-python",
   "name": "python",
   "nbconvert_exporter": "python",
   "pygments_lexer": "ipython3",
   "version": "3.10.16"
  }
 },
 "nbformat": 4,
 "nbformat_minor": 5
}
