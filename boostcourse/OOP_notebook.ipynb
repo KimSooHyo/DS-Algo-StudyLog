{
 "cells": [
  {
   "cell_type": "code",
   "execution_count": 1,
   "id": "807b07b4",
   "metadata": {},
   "outputs": [],
   "source": [
    "class Note(object):\n",
    "    def __init__(self, content = None):\n",
    "        self.content = content\n",
    "        \n",
    "    def write_content(self, content):\n",
    "        self.content = content\n",
    "    \n",
    "    def remove_all(self):\n",
    "        self.content = \"\"\n",
    "    \n",
    "    def __add__(self, other):\n",
    "        return self.content + other.content\n",
    "    \n",
    "    def __str__(self):\n",
    "        return self.content"
   ]
  },
  {
   "cell_type": "code",
   "execution_count": 28,
   "id": "5c6e6ebc",
   "metadata": {},
   "outputs": [],
   "source": [
    "class Notebook(object):\n",
    "    def __init__(self, title):\n",
    "        self.title = title\n",
    "        self.page_number = 1\n",
    "        self.notes = {}\n",
    "        \n",
    "    def add_note(self, note, page = 0):\n",
    "        if self.page_number < 300:\n",
    "            if page == 0:\n",
    "                self.notes[self.page_number] = note\n",
    "                self.page_number += 1\n",
    "            else:\n",
    "                self.notes[page] = note\n",
    "                self.page_number += 1\n",
    "                \n",
    "        else:\n",
    "            print(\"Page가 모두 채워졌습니다.\")\n",
    "        \n",
    "    def remove_note(self, page_number):\n",
    "        if page_number in self.notes.keys():\n",
    "            return self.notes.pop(page_number)\n",
    "        else:\n",
    "            print(\"해당 페이지는 존재하지 않습니다.\")\n",
    "            \n",
    "    def get_number_of_pages(self):\n",
    "        return len(self.notes.keys())"
   ]
  },
  {
   "cell_type": "code",
   "execution_count": 29,
   "id": "5b7d5d26",
   "metadata": {},
   "outputs": [
    {
     "data": {
      "text/plain": [
       "<__main__.Notebook at 0x20f2a9816c0>"
      ]
     },
     "execution_count": 29,
     "metadata": {},
     "output_type": "execute_result"
    }
   ],
   "source": [
    "my_note = Notebook(\"강의 노트\")\n",
    "my_note"
   ]
  },
  {
   "cell_type": "code",
   "execution_count": 30,
   "id": "58c6fe4e",
   "metadata": {},
   "outputs": [
    {
     "data": {
      "text/plain": [
       "'강의 노트'"
      ]
     },
     "execution_count": 30,
     "metadata": {},
     "output_type": "execute_result"
    }
   ],
   "source": [
    "my_note.title"
   ]
  },
  {
   "cell_type": "code",
   "execution_count": 31,
   "id": "16698b6e",
   "metadata": {},
   "outputs": [
    {
     "name": "stdout",
     "output_type": "stream",
     "text": [
      "수업하기 싫다\n"
     ]
    }
   ],
   "source": [
    "new_note = Note(\"수업하기 싫다\")\n",
    "print(new_note)"
   ]
  },
  {
   "cell_type": "code",
   "execution_count": 32,
   "id": "1355f3dc",
   "metadata": {},
   "outputs": [
    {
     "name": "stdout",
     "output_type": "stream",
     "text": [
      "파이썬\n"
     ]
    }
   ],
   "source": [
    "new_note2 = Note(\"파이썬\")\n",
    "print(new_note2)"
   ]
  },
  {
   "cell_type": "code",
   "execution_count": 33,
   "id": "3af52bb6",
   "metadata": {},
   "outputs": [],
   "source": [
    "my_note.add_note(new_note)\n",
    "my_note.add_note(new_note2, 100)"
   ]
  },
  {
   "cell_type": "code",
   "execution_count": 34,
   "id": "c14db981",
   "metadata": {},
   "outputs": [
    {
     "data": {
      "text/plain": [
       "{1: <__main__.Note at 0x20f29479e40>, 100: <__main__.Note at 0x20f2a9250f0>}"
      ]
     },
     "execution_count": 34,
     "metadata": {},
     "output_type": "execute_result"
    }
   ],
   "source": [
    "my_note.notes"
   ]
  },
  {
   "cell_type": "code",
   "execution_count": 36,
   "id": "1393895a",
   "metadata": {},
   "outputs": [
    {
     "name": "stdout",
     "output_type": "stream",
     "text": [
      "수업하기 싫다\n"
     ]
    }
   ],
   "source": [
    "print(my_note.notes[1])"
   ]
  },
  {
   "cell_type": "code",
   "execution_count": 37,
   "id": "de88d104",
   "metadata": {},
   "outputs": [
    {
     "data": {
      "text/plain": [
       "2"
      ]
     },
     "execution_count": 37,
     "metadata": {},
     "output_type": "execute_result"
    }
   ],
   "source": [
    "my_note.get_number_of_pages()"
   ]
  },
  {
   "cell_type": "code",
   "execution_count": 38,
   "id": "f5622100",
   "metadata": {},
   "outputs": [],
   "source": [
    "my_note.notes[2] =Note(\"HELLO\")"
   ]
  },
  {
   "cell_type": "code",
   "execution_count": null,
   "id": "99a9066e",
   "metadata": {},
   "outputs": [],
   "source": []
  }
 ],
 "metadata": {
  "kernelspec": {
   "display_name": "Python 3",
   "language": "python",
   "name": "python3"
  },
  "language_info": {
   "codemirror_mode": {
    "name": "ipython",
    "version": 3
   },
   "file_extension": ".py",
   "mimetype": "text/x-python",
   "name": "python",
   "nbconvert_exporter": "python",
   "pygments_lexer": "ipython3",
   "version": "3.10.16"
  }
 },
 "nbformat": 4,
 "nbformat_minor": 5
}
