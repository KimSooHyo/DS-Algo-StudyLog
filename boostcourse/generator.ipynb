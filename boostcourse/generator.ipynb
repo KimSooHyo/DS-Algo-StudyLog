{
 "cells": [
  {
   "cell_type": "markdown",
   "id": "40aa3bc0",
   "metadata": {},
   "source": [
    "## Generator\n",
    "\n",
    "- iterable object를 특수한 형태로 사용해주는 함수\n",
    "- element가 사용되는 시점에 값을 메모리에 반환"
   ]
  },
  {
   "cell_type": "markdown",
   "id": "9a6f6998",
   "metadata": {},
   "source": [
    " - list 타입의 데이터를반환해주는함수는generator로만들어라!\n",
    " \n",
    " : 읽기 쉬운장점, 중간과정에서loop 이중단될수있을때!\n",
    " - 큰데이터를처리할때는generator expression을 고려하라!\n",
    " \n",
    " : 데이터가커도처리의어려움이없음\n",
    " - 파일데이터를처리할때도generator를쓰자"
   ]
  },
  {
   "cell_type": "code",
   "execution_count": 2,
   "id": "85d6c33f",
   "metadata": {},
   "outputs": [],
   "source": [
    "def generator_list(value):\n",
    "    for i in range(value):\n",
    "        #yield는 중간에 값을 하나 '내보낸 후', 다음 호출에서 거기서부터 다시 시작할 수 있음\n",
    "        yield i"
   ]
  },
  {
   "cell_type": "code",
   "execution_count": 3,
   "id": "906fb9b9",
   "metadata": {},
   "outputs": [
    {
     "name": "stdout",
     "output_type": "stream",
     "text": [
      "<generator object generator_list at 0x000001C0FD555540>\n"
     ]
    }
   ],
   "source": [
    "gen = generator_list(5)\n",
    "print(gen)"
   ]
  },
  {
   "cell_type": "code",
   "execution_count": 4,
   "id": "55612e16",
   "metadata": {},
   "outputs": [
    {
     "name": "stdout",
     "output_type": "stream",
     "text": [
      "0\n",
      "1\n",
      "2\n",
      "3\n",
      "4\n"
     ]
    }
   ],
   "source": [
    "for i in gen:\n",
    "    print(i)"
   ]
  },
  {
   "cell_type": "code",
   "execution_count": null,
   "id": "07c2388e",
   "metadata": {},
   "outputs": [],
   "source": []
  }
 ],
 "metadata": {
  "kernelspec": {
   "display_name": "Python 3",
   "language": "python",
   "name": "python3"
  },
  "language_info": {
   "codemirror_mode": {
    "name": "ipython",
    "version": 3
   },
   "file_extension": ".py",
   "mimetype": "text/x-python",
   "name": "python",
   "nbconvert_exporter": "python",
   "pygments_lexer": "ipython3",
   "version": "3.10.16"
  }
 },
 "nbformat": 4,
 "nbformat_minor": 5
}
