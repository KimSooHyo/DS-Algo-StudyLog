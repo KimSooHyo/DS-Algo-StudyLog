{
 "cells": [
  {
   "cell_type": "markdown",
   "id": "a9a00e6e",
   "metadata": {},
   "source": [
    "Attribute 추가는 __init___ , self와 함께!\n",
    " __init__은 객체 초기화예약함수"
   ]
  },
  {
   "cell_type": "code",
   "execution_count": 1,
   "id": "133265d6",
   "metadata": {},
   "outputs": [],
   "source": [
    "#축구 선수 정보를 Class로 구현하기\n",
    "class SoccerPlayer(object):\n",
    "    def __init__(self, name, position, back_number):\n",
    "        self.name = name\n",
    "        self.position = position\n",
    "        self.back_number = back_number\n",
    "        \n",
    "    def change_back_number(self, new_number):\n",
    "        print(\"등번호 변경 : From %d to %d\" % (self.back_number, new_number))\n",
    "        self.back_number = new_number"
   ]
  },
  {
   "cell_type": "code",
   "execution_count": 3,
   "id": "8a476d2d",
   "metadata": {},
   "outputs": [],
   "source": [
    "player = SoccerPlayer(\"Aarons\", \"RB\", 2)"
   ]
  },
  {
   "cell_type": "code",
   "execution_count": 4,
   "id": "846afd8a",
   "metadata": {},
   "outputs": [
    {
     "name": "stdout",
     "output_type": "stream",
     "text": [
      "이름 Aarons\n",
      "포지션 RB\n",
      "등번호 2\n"
     ]
    }
   ],
   "source": [
    "print(\"이름\", player.name)\n",
    "print(\"포지션\", player.position)\n",
    "print(\"등번호\", player.back_number)"
   ]
  },
  {
   "cell_type": "code",
   "execution_count": 5,
   "id": "aa134cac",
   "metadata": {},
   "outputs": [
    {
     "name": "stdout",
     "output_type": "stream",
     "text": [
      "등번호 변경 : From 2 to 10\n",
      "변경된 등번호 10\n"
     ]
    }
   ],
   "source": [
    "player.change_back_number(10)\n",
    "\n",
    "print(\"변경된 등번호\", player.back_number)"
   ]
  },
  {
   "cell_type": "markdown",
   "id": "b34da178",
   "metadata": {},
   "source": [
    "### Inheritance 상속"
   ]
  },
  {
   "cell_type": "code",
   "execution_count": 7,
   "id": "48176fcd",
   "metadata": {},
   "outputs": [
    {
     "name": "stdout",
     "output_type": "stream",
     "text": [
      "<__main__.Korean object at 0x000001D7ADB6F9D0>\n",
      "sungchul\n"
     ]
    }
   ],
   "source": [
    "class Person(object):\n",
    "    def __init__(self, name, age):\n",
    "        self.name = name\n",
    "        self.age = age\n",
    "\n",
    "class Korean(Person):\n",
    "    pass\n",
    "\n",
    "first_korean = Korean(\"sungchul\", 35)\n",
    "print(first_korean)\n",
    "print(first_korean.name)"
   ]
  },
  {
   "cell_type": "markdown",
   "id": "3efebc15",
   "metadata": {},
   "source": [
    "---"
   ]
  },
  {
   "cell_type": "code",
   "execution_count": 8,
   "id": "1c8dd693",
   "metadata": {},
   "outputs": [],
   "source": [
    "class Person(object): #부모 클래스\n",
    "    def __init__(self, name, age, gender):\n",
    "        self.name = name\n",
    "        self.age = age\n",
    "        self.gender = gender\n",
    "        \n",
    "    def about_me(self): #Method 선언\n",
    "        print(\"이름 :\", self.name, '나이:', str(self.age), '입니다')\n",
    "    "
   ]
  },
  {
   "cell_type": "code",
   "execution_count": 12,
   "id": "117da55c",
   "metadata": {},
   "outputs": [],
   "source": [
    "class Employee(Person):\n",
    "    def __init__(self, name, age, gender, salary, hire_date):\n",
    "        super().__init__(name, age, gender) #부모 객체 사용\n",
    "        self.salary = salary \n",
    "        self.hire_date = hire_date #속성값 추가\n",
    "        \n",
    "    def do_work(self): #새로운 매서드\n",
    "        print(\"일을 합니다\")\n",
    "        \n",
    "    def about_me(self): #부모 클래스 함수 재정의\n",
    "        super().about_me() #부모 클래스 함수 사용\n",
    "        print((\"급여 :\", self.salary, '입사일 :', self.hire_date))"
   ]
  },
  {
   "cell_type": "code",
   "execution_count": 15,
   "id": "14433e75",
   "metadata": {},
   "outputs": [
    {
     "name": "stdout",
     "output_type": "stream",
     "text": [
      "이름 : 홍길동 나이: 30 입니다\n"
     ]
    }
   ],
   "source": [
    "person1 = Person(\"홍길동\", 30, \"남성\")\n",
    "person1.about_me()"
   ]
  },
  {
   "cell_type": "code",
   "execution_count": 14,
   "id": "169a22d3",
   "metadata": {},
   "outputs": [
    {
     "name": "stdout",
     "output_type": "stream",
     "text": [
      "이름 : 유재석 나이: 40 입니다\n",
      "('급여 :', 50000, '입사일 :', '2005-03-01')\n"
     ]
    },
    {
     "data": {
      "text/plain": [
       "<bound method Employee.do_work of <__main__.Employee object at 0x000001D7AEE45090>>"
      ]
     },
     "execution_count": 14,
     "metadata": {},
     "output_type": "execute_result"
    }
   ],
   "source": [
    "employee = Employee(\"유재석\", 40, \"남성\", 50000, \"2005-03-01\")\n",
    "employee.about_me()\n",
    "employee.do_work"
   ]
  },
  {
   "cell_type": "code",
   "execution_count": null,
   "id": "36c369c2",
   "metadata": {},
   "outputs": [],
   "source": []
  }
 ],
 "metadata": {
  "kernelspec": {
   "display_name": "Python 3",
   "language": "python",
   "name": "python3"
  },
  "language_info": {
   "codemirror_mode": {
    "name": "ipython",
    "version": 3
   },
   "file_extension": ".py",
   "mimetype": "text/x-python",
   "name": "python",
   "nbconvert_exporter": "python",
   "pygments_lexer": "ipython3",
   "version": "3.10.16"
  }
 },
 "nbformat": 4,
 "nbformat_minor": 5
}
