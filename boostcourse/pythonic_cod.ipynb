{
 "cells": [
  {
   "cell_type": "markdown",
   "id": "2772c6e2",
   "metadata": {},
   "source": [
    "### list comprehension"
   ]
  },
  {
   "cell_type": "code",
   "execution_count": 2,
   "id": "4d9811da",
   "metadata": {},
   "outputs": [
    {
     "data": {
      "text/plain": [
       "[0, 1, 2, 3, 4, 5, 6, 7, 8, 9]"
      ]
     },
     "execution_count": 2,
     "metadata": {},
     "output_type": "execute_result"
    }
   ],
   "source": [
    "result = []\n",
    "for i in range(10):\n",
    "    result.append(i)\n",
    "    \n",
    "result"
   ]
  },
  {
   "cell_type": "code",
   "execution_count": 3,
   "id": "2d61a4d5",
   "metadata": {},
   "outputs": [
    {
     "data": {
      "text/plain": [
       "[0, 1, 2, 3, 4, 5, 6, 7, 8, 9]"
      ]
     },
     "execution_count": 3,
     "metadata": {},
     "output_type": "execute_result"
    }
   ],
   "source": [
    "result = [i for i in range(10)]\n",
    "result"
   ]
  },
  {
   "cell_type": "code",
   "execution_count": 5,
   "id": "6300d8df",
   "metadata": {},
   "outputs": [
    {
     "data": {
      "text/plain": [
       "['hw',\n",
       " 'ho',\n",
       " 'hr',\n",
       " 'hl',\n",
       " 'hd',\n",
       " 'ew',\n",
       " 'eo',\n",
       " 'er',\n",
       " 'el',\n",
       " 'ed',\n",
       " 'lw',\n",
       " 'lo',\n",
       " 'lr',\n",
       " 'll',\n",
       " 'ld',\n",
       " 'lw',\n",
       " 'lo',\n",
       " 'lr',\n",
       " 'll',\n",
       " 'ld',\n",
       " 'ow',\n",
       " 'oo',\n",
       " 'or',\n",
       " 'ol',\n",
       " 'od']"
      ]
     },
     "execution_count": 5,
     "metadata": {},
     "output_type": "execute_result"
    }
   ],
   "source": [
    "word1 = \"hello\"\n",
    "word2 = \"world\"\n",
    "\n",
    "result = [i+j for i in word1 for j in word2]\n",
    "result"
   ]
  },
  {
   "cell_type": "markdown",
   "id": "267125d5",
   "metadata": {},
   "source": [
    "### enumerate & zip\n",
    "\n",
    "- enumerate : list의 element를 추출할 때 번호를 붙여서 추출\n",
    "- zip : 두 개의 list의 값을 병렬적으로 추출\n"
   ]
  },
  {
   "cell_type": "code",
   "execution_count": 6,
   "id": "387ee32b",
   "metadata": {},
   "outputs": [
    {
     "name": "stdout",
     "output_type": "stream",
     "text": [
      "0 tic\n",
      "1 tac\n",
      "2 toe\n"
     ]
    }
   ],
   "source": [
    "for i, v in enumerate(['tic', 'tac', 'toe']):\n",
    "    print(i, v)"
   ]
  },
  {
   "cell_type": "code",
   "execution_count": 7,
   "id": "dafa22aa",
   "metadata": {},
   "outputs": [
    {
     "data": {
      "text/plain": [
       "[(0, 'a'), (1, 'b'), (2, 'c'), (3, 'd')]"
      ]
     },
     "execution_count": 7,
     "metadata": {},
     "output_type": "execute_result"
    }
   ],
   "source": [
    "mylist = ['a','b','c','d']\n",
    "list(enumerate(mylist))"
   ]
  },
  {
   "cell_type": "code",
   "execution_count": 8,
   "id": "02216f51",
   "metadata": {},
   "outputs": [
    {
     "data": {
      "text/plain": [
       "{0: 'Artificial',\n",
       " 1: 'intelligence',\n",
       " 2: '(AI),',\n",
       " 3: 'is',\n",
       " 4: 'intelligence',\n",
       " 5: 'demonstrated',\n",
       " 6: 'by',\n",
       " 7: 'machines,',\n",
       " 8: 'unlike',\n",
       " 9: 'the',\n",
       " 10: 'natural',\n",
       " 11: 'intelligence',\n",
       " 12: 'displayed',\n",
       " 13: 'by',\n",
       " 14: 'humans',\n",
       " 15: 'and',\n",
       " 16: 'animals.'}"
      ]
     },
     "execution_count": 8,
     "metadata": {},
     "output_type": "execute_result"
    }
   ],
   "source": [
    "{i:j for i,j in enumerate(\"Artificial intelligence (AI), is intelligence demonstrated by machines, unlike the natural intelligence displayed by humans and animals.\".split())}"
   ]
  },
  {
   "cell_type": "code",
   "execution_count": 10,
   "id": "29e22d4a",
   "metadata": {},
   "outputs": [
    {
     "name": "stdout",
     "output_type": "stream",
     "text": [
      "a1 b1\n",
      "a2 b2\n",
      "a3 b3\n"
     ]
    }
   ],
   "source": [
    "alist = ['a1', 'a2', 'a3']\n",
    "blist = ['b1', 'b2', 'b3']\n",
    "for a,b in zip(alist, blist): #병렬적으로 값을 추출\n",
    "    print(a,b)"
   ]
  },
  {
   "cell_type": "code",
   "execution_count": 11,
   "id": "ff5f0e15",
   "metadata": {},
   "outputs": [
    {
     "data": {
      "text/plain": [
       "{'a1': 'b1', 'a2': 'b2', 'a3': 'b3'}"
      ]
     },
     "execution_count": 11,
     "metadata": {},
     "output_type": "execute_result"
    }
   ],
   "source": [
    "result ={a:b for a,b in zip(alist, blist)}\n",
    "result"
   ]
  },
  {
   "cell_type": "code",
   "execution_count": 12,
   "id": "43292478",
   "metadata": {},
   "outputs": [
    {
     "name": "stdout",
     "output_type": "stream",
     "text": [
      "0 a1 b1\n",
      "1 a2 b2\n",
      "2 a3 b3\n"
     ]
    }
   ],
   "source": [
    "for i,(a, b) in enumerate(zip(alist, blist)):\n",
    "    print (i, a, b)"
   ]
  },
  {
   "cell_type": "markdown",
   "id": "bb61ad4a",
   "metadata": {},
   "source": [
    "- lambda : 함수처럼 쓸 수 있는 익명함수\n",
    "- map\n",
    "- reduce"
   ]
  },
  {
   "cell_type": "code",
   "execution_count": 13,
   "id": "08ab49c8",
   "metadata": {},
   "outputs": [
    {
     "name": "stdout",
     "output_type": "stream",
     "text": [
      "5\n"
     ]
    }
   ],
   "source": [
    "def f(x,y):\n",
    "    return x + y\n",
    "\n",
    "print(f(1, 4))"
   ]
  },
  {
   "cell_type": "code",
   "execution_count": 14,
   "id": "acf281d0",
   "metadata": {},
   "outputs": [
    {
     "name": "stdout",
     "output_type": "stream",
     "text": [
      "5\n"
     ]
    }
   ],
   "source": [
    "f = lambda x, y: x+y\n",
    "print(f(1,4))"
   ]
  },
  {
   "cell_type": "code",
   "execution_count": 16,
   "id": "15024adf",
   "metadata": {},
   "outputs": [
    {
     "name": "stdout",
     "output_type": "stream",
     "text": [
      "1.5\n"
     ]
    }
   ],
   "source": [
    "f = lambda x: x/2\n",
    "print(f(3))"
   ]
  },
  {
   "cell_type": "markdown",
   "id": "9cd7e717",
   "metadata": {},
   "source": [
    "### 가변인자\n",
    "\n",
    "- 개수가 정해지지 않은 변수를 함수의 파라미터로 사용\n",
    "- 입력된 값은 튜플로 사용 가능"
   ]
  },
  {
   "cell_type": "code",
   "execution_count": 17,
   "id": "5057cb62",
   "metadata": {},
   "outputs": [
    {
     "name": "stdout",
     "output_type": "stream",
     "text": [
      "15\n"
     ]
    }
   ],
   "source": [
    "def asterisk_test(a,b,*args):\n",
    "    return a+b+sum(args)\n",
    "\n",
    "print(asterisk_test(1,2,3,4,5))"
   ]
  },
  {
   "cell_type": "code",
   "execution_count": 18,
   "id": "82d4b39a",
   "metadata": {},
   "outputs": [
    {
     "name": "stdout",
     "output_type": "stream",
     "text": [
      "(3, 4, 5)\n"
     ]
    }
   ],
   "source": [
    "def asterisk_test2(*args):\n",
    "    x,y,z = args\n",
    "    return x,y,z\n",
    "\n",
    "print(asterisk_test2(3,4,5))"
   ]
  },
  {
   "cell_type": "markdown",
   "id": "9e831819",
   "metadata": {},
   "source": [
    "**kwargs는 키워드 인자(keyword arguments)를 딕셔너리로 받는다는 뜻"
   ]
  },
  {
   "cell_type": "code",
   "execution_count": 19,
   "id": "a15a48c2",
   "metadata": {},
   "outputs": [],
   "source": [
    "def kwargs_test_1(**kwargs):\n",
    "    print(kwargs)\n",
    "    \n",
    "def kwargs_test_2(**kwargs):\n",
    "    print(kwargs)\n",
    "    print(\"First value is {first}\".format(**kwargs))\n",
    "    print(\"Second value is {second}\".format(**kwargs))\n",
    "    print(\"Third value is {third}\".format(**kwargs))"
   ]
  },
  {
   "cell_type": "code",
   "execution_count": null,
   "id": "68ea4b0a",
   "metadata": {},
   "outputs": [
    {
     "name": "stdout",
     "output_type": "stream",
     "text": [
      "{'x': 10, 'y': 20}\n"
     ]
    }
   ],
   "source": [
    "kwargs_test_1(x=10, y=20)\n",
    "# 출력: {'x': 10, 'y': 20}"
   ]
  },
  {
   "cell_type": "code",
   "execution_count": 23,
   "id": "8ca8a51b",
   "metadata": {},
   "outputs": [
    {
     "name": "stdout",
     "output_type": "stream",
     "text": [
      "{'first': 'apple', 'second': 'banana', 'third': 'cherry'}\n",
      "First value is apple\n",
      "Second value is banana\n",
      "Third value is cherry\n"
     ]
    }
   ],
   "source": [
    "kwargs_test_2(first='apple', second='banana', third='cherry')\n"
   ]
  },
  {
   "cell_type": "code",
   "execution_count": 25,
   "id": "7d1540c0",
   "metadata": {},
   "outputs": [
    {
     "name": "stdout",
     "output_type": "stream",
     "text": [
      "{'a': 10, 'b': 20}\n"
     ]
    }
   ],
   "source": [
    "kwargs_test_1(a=10, b=20)\n"
   ]
  },
  {
   "cell_type": "code",
   "execution_count": null,
   "id": "9f030d8b",
   "metadata": {},
   "outputs": [],
   "source": []
  }
 ],
 "metadata": {
  "kernelspec": {
   "display_name": "Python 3",
   "language": "python",
   "name": "python3"
  },
  "language_info": {
   "codemirror_mode": {
    "name": "ipython",
    "version": 3
   },
   "file_extension": ".py",
   "mimetype": "text/x-python",
   "name": "python",
   "nbconvert_exporter": "python",
   "pygments_lexer": "ipython3",
   "version": "3.10.16"
  }
 },
 "nbformat": 4,
 "nbformat_minor": 5
}
