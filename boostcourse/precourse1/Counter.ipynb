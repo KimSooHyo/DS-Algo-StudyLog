{
 "cells": [
  {
   "cell_type": "code",
   "execution_count": 1,
   "id": "2e19bf2e",
   "metadata": {},
   "outputs": [],
   "source": [
    "from collections import Counter"
   ]
  },
  {
   "cell_type": "code",
   "execution_count": 2,
   "id": "a80d2da3",
   "metadata": {},
   "outputs": [
    {
     "name": "stdout",
     "output_type": "stream",
     "text": [
      "Counter({'a': 3, 'l': 2, 'g': 1, 'h': 1, 'd': 1})\n"
     ]
    }
   ],
   "source": [
    "c = Counter()\n",
    "c = Counter('gallahad')\n",
    "print(c)"
   ]
  },
  {
   "cell_type": "code",
   "execution_count": 3,
   "id": "9241d2e8",
   "metadata": {},
   "outputs": [
    {
     "name": "stdout",
     "output_type": "stream",
     "text": [
      "Counter({'red': 4, 'blue': 2})\n"
     ]
    }
   ],
   "source": [
    "c = Counter({\"red\":4, \"blue\":2})\n",
    "print(c)"
   ]
  },
  {
   "cell_type": "code",
   "execution_count": 5,
   "id": "b77a9535",
   "metadata": {},
   "outputs": [
    {
     "name": "stdout",
     "output_type": "stream",
     "text": [
      "['red', 'red', 'red', 'red', 'blue', 'blue']\n"
     ]
    }
   ],
   "source": [
    "print(list(c.elements()))"
   ]
  },
  {
   "cell_type": "code",
   "execution_count": 6,
   "id": "f796e1ea",
   "metadata": {},
   "outputs": [
    {
     "name": "stdout",
     "output_type": "stream",
     "text": [
      "Counter({'dogs': 8, 'cats': 4})\n",
      "['cats', 'cats', 'cats', 'cats', 'dogs', 'dogs', 'dogs', 'dogs', 'dogs', 'dogs', 'dogs', 'dogs']\n"
     ]
    }
   ],
   "source": [
    "c = Counter(cats=4, dogs=8)\n",
    "print(c)\n",
    "print(list(c.elements()))"
   ]
  },
  {
   "cell_type": "code",
   "execution_count": 11,
   "id": "c1856679",
   "metadata": {},
   "outputs": [],
   "source": [
    "c = Counter(a=4,b=2,c=0,d=-2)\n",
    "d = Counter(a=1, b=2,c=3,d=4)"
   ]
  },
  {
   "cell_type": "code",
   "execution_count": 12,
   "id": "386f0419",
   "metadata": {},
   "outputs": [
    {
     "name": "stdout",
     "output_type": "stream",
     "text": [
      "Counter({'a': 3, 'b': 0, 'c': -3, 'd': -6})\n"
     ]
    }
   ],
   "source": [
    "c.subtract(d) #c-d\n",
    "print(c)"
   ]
  },
  {
   "cell_type": "code",
   "execution_count": 14,
   "id": "fad8023e",
   "metadata": {},
   "outputs": [
    {
     "name": "stdout",
     "output_type": "stream",
     "text": [
      "Counter({'a': 5, 'b': 4, 'c': 3, 'd': 2})\n",
      "Counter({'b': 2, 'a': 1})\n",
      "Counter({'a': 4, 'd': 4, 'c': 3, 'b': 2})\n"
     ]
    }
   ],
   "source": [
    "c = Counter(a=4,b=2,c=0,d=-2)\n",
    "d = Counter(a=1, b=2,c=3,d=4)\n",
    "\n",
    "print(c+d)\n",
    "print(c&d)\n",
    "print(c|d)"
   ]
  },
  {
   "cell_type": "code",
   "execution_count": 15,
   "id": "05550498",
   "metadata": {},
   "outputs": [],
   "source": [
    "text = \"\"\"A press release is the  quckest and easiest way to get free publicity. If well written, a press release can result in nultiple.\"\"\""
   ]
  },
  {
   "cell_type": "code",
   "execution_count": 17,
   "id": "6859abd1",
   "metadata": {},
   "outputs": [
    {
     "name": "stdout",
     "output_type": "stream",
     "text": [
      "Counter({' ': 23, 'e': 19, 's': 11, 't': 10, 'l': 8, 'r': 7, 'a': 7, 'i': 7, 'n': 5, 'p': 4, 'u': 4, 'c': 3, 'w': 3, 'y': 2, 'f': 2, '.': 2, 'A': 1, 'h': 1, 'q': 1, 'k': 1, 'd': 1, 'o': 1, 'g': 1, 'b': 1, 'I': 1, ',': 1})\n"
     ]
    }
   ],
   "source": [
    "print(Counter(text))\n"
   ]
  },
  {
   "cell_type": "code",
   "execution_count": 18,
   "id": "940a191a",
   "metadata": {},
   "outputs": [
    {
     "name": "stdout",
     "output_type": "stream",
     "text": [
      "7\n"
     ]
    }
   ],
   "source": [
    "print(Counter(text)['a'])"
   ]
  },
  {
   "cell_type": "code",
   "execution_count": 19,
   "id": "13b64d42",
   "metadata": {},
   "outputs": [
    {
     "name": "stdout",
     "output_type": "stream",
     "text": [
      "Counter({'a': 2, 'press': 2, 'release': 2, 'is': 1, 'the': 1, 'quckest': 1, 'and': 1, 'easiest': 1, 'way': 1, 'to': 1, 'get': 1, 'free': 1, 'publicity.': 1, 'if': 1, 'well': 1, 'written,': 1, 'can': 1, 'result': 1, 'in': 1, 'nultiple.': 1})\n"
     ]
    }
   ],
   "source": [
    "text = \"\"\"A press release is the  quckest and easiest way to get free publicity. If well written, a press release can result in nultiple.\"\"\".lower().split()\n",
    "\n",
    "print(Counter(text))"
   ]
  },
  {
   "cell_type": "code",
   "execution_count": 20,
   "id": "2f418de6",
   "metadata": {},
   "outputs": [
    {
     "name": "stdout",
     "output_type": "stream",
     "text": [
      "2\n"
     ]
    }
   ],
   "source": [
    "print(Counter(text)['a'])\n"
   ]
  },
  {
   "cell_type": "code",
   "execution_count": null,
   "id": "f3e4979c",
   "metadata": {},
   "outputs": [],
   "source": []
  }
 ],
 "metadata": {
  "kernelspec": {
   "display_name": ".conda",
   "language": "python",
   "name": "python3"
  },
  "language_info": {
   "codemirror_mode": {
    "name": "ipython",
    "version": 3
   },
   "file_extension": ".py",
   "mimetype": "text/x-python",
   "name": "python",
   "nbconvert_exporter": "python",
   "pygments_lexer": "ipython3",
   "version": "3.10.16"
  }
 },
 "nbformat": 4,
 "nbformat_minor": 5
}
