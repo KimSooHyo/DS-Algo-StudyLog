{
 "cells": [
  {
   "cell_type": "code",
   "execution_count": 1,
   "id": "5fd18a74",
   "metadata": {},
   "outputs": [],
   "source": [
    "from collections import defaultdict"
   ]
  },
  {
   "cell_type": "code",
   "execution_count": 2,
   "id": "a8539bbb",
   "metadata": {},
   "outputs": [],
   "source": [
    "#defaultdict 생성하고 초깃값 str('') 지정\n",
    "my_dict_str = defaultdict(str)"
   ]
  },
  {
   "cell_type": "code",
   "execution_count": 3,
   "id": "b64075e8",
   "metadata": {},
   "outputs": [],
   "source": [
    "my_dict_list = defaultdict(list)"
   ]
  },
  {
   "cell_type": "code",
   "execution_count": 4,
   "id": "6a24b52a",
   "metadata": {},
   "outputs": [
    {
     "name": "stdout",
     "output_type": "stream",
     "text": [
      "\n",
      "[]\n"
     ]
    }
   ],
   "source": [
    "print(my_dict_str['key'])\n",
    "print(my_dict_list['key'])"
   ]
  },
  {
   "cell_type": "code",
   "execution_count": 5,
   "id": "ce5ed491",
   "metadata": {},
   "outputs": [],
   "source": [
    "my_dict_str['key'] += 'hello'\n",
    "my_dict_list['key'].append(4)"
   ]
  },
  {
   "cell_type": "code",
   "execution_count": 6,
   "id": "1921bbda",
   "metadata": {},
   "outputs": [
    {
     "name": "stdout",
     "output_type": "stream",
     "text": [
      "hello\n",
      "[4]\n"
     ]
    }
   ],
   "source": [
    "print(my_dict_str['key'])\n",
    "print(my_dict_list['key'])"
   ]
  }
 ],
 "metadata": {
  "kernelspec": {
   "display_name": ".conda",
   "language": "python",
   "name": "python3"
  },
  "language_info": {
   "codemirror_mode": {
    "name": "ipython",
    "version": 3
   },
   "file_extension": ".py",
   "mimetype": "text/x-python",
   "name": "python",
   "nbconvert_exporter": "python",
   "pygments_lexer": "ipython3",
   "version": "3.10.16"
  }
 },
 "nbformat": 4,
 "nbformat_minor": 5
}
