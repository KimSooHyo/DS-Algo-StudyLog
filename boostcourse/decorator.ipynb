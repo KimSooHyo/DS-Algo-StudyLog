{
 "cells": [
  {
   "cell_type": "code",
   "execution_count": 1,
   "id": "3abc40e5",
   "metadata": {},
   "outputs": [
    {
     "name": "stdout",
     "output_type": "stream",
     "text": [
      "******************************\n",
      "Hello\n",
      "******************************\n"
     ]
    }
   ],
   "source": [
    "def star(func):\n",
    "    def inner(*args, **kwargs):\n",
    "        print(\"*\" * 30)\n",
    "        func(*args, **kwargs)\n",
    "        print(\"*\" * 30)\n",
    "    return inner\n",
    "\n",
    "@star\n",
    "def printer(msg):\n",
    "    print(msg)\n",
    "printer(\"Hello\")"
   ]
  },
  {
   "cell_type": "markdown",
   "id": "e8242bcf",
   "metadata": {},
   "source": [
    "---\n",
    "### 1. 일급함수\n",
    "\n",
    "파이썬에서는 함수를 값처럼 다룰 수 있어. 이걸 일급 객체라고 하고, 이 중에서도 함수가 일급 객체이기 때문에 일급 함수라고 해."
   ]
  },
  {
   "cell_type": "code",
   "execution_count": null,
   "id": "671e69fb",
   "metadata": {},
   "outputs": [
    {
     "data": {
      "text/plain": [
       "<function __main__.say_hi()>"
      ]
     },
     "execution_count": 2,
     "metadata": {},
     "output_type": "execute_result"
    }
   ],
   "source": [
    "#함수는 변수에 할당 가능\n",
    "def say_hi():\n",
    "    print(\"hi\")\n",
    "    \n",
    "greeting = say_hi\n",
    "greeting\n"
   ]
  },
  {
   "cell_type": "code",
   "execution_count": null,
   "id": "34dfbad2",
   "metadata": {},
   "outputs": [
    {
     "name": "stdout",
     "output_type": "stream",
     "text": [
      "hi\n"
     ]
    }
   ],
   "source": [
    "#함수는 인자로 전달 가능\n",
    "def run(func):\n",
    "    func()\n",
    "    \n",
    "run(say_hi)"
   ]
  },
  {
   "cell_type": "code",
   "execution_count": 4,
   "id": "93e2e445",
   "metadata": {},
   "outputs": [
    {
     "name": "stdout",
     "output_type": "stream",
     "text": [
      "inside inner\n"
     ]
    }
   ],
   "source": [
    "#함수는 반환값으로 사용할 수 있음\n",
    "def outer():\n",
    "    def inner():\n",
    "        print(\"inside inner\")\n",
    "    return inner\n",
    "\n",
    "f=outer()\n",
    "f()"
   ]
  },
  {
   "cell_type": "markdown",
   "id": "83c9de38",
   "metadata": {},
   "source": [
    "---\n",
    "### 2. 데코레이터\n",
    "\n",
    "데코레이터는 함수를 감싸서 기능을 확장하는 함수야.\n",
    "\n",
    "즉, 기존 함수를 수정하지 않고 추가 동작을 넣고 싶을 때 사용해.`"
   ]
  },
  {
   "cell_type": "code",
   "execution_count": null,
   "id": "fa4b9090",
   "metadata": {},
   "outputs": [],
   "source": [
    "def star(func):  # ① 데코레이터 함수 정의\n",
    "    def inner(*args, **kwargs):  # ② 실제 감싸는 함수\n",
    "        print(\"*\" * 30)\n",
    "        func(*args, **kwargs)  # ③ 원래 함수 실행\n",
    "        print(\"*\" * 30)\n",
    "    return inner  # ④ 감싼 함수 반환\n",
    "\n",
    "@star  # ⑤ 데코레이터 적용\n",
    "def printer(msg):  # ⑥ 원래 함수\n",
    "    print(msg)\n",
    "\n",
    "printer(\"Hello\")  # ⑦ 실행\n"
   ]
  },
  {
   "cell_type": "code",
   "execution_count": null,
   "id": "51f3cab1",
   "metadata": {},
   "outputs": [],
   "source": [
    "#내부 동작 원리\n",
    "# 이 코드는 아래처럼 바뀜\n",
    "def printer(msg):\n",
    "    print(msg)\n",
    "\n",
    "printer = star(printer)\n",
    "\n",
    "printer(\"Hello\")  # => inner(\"Hello\") 실행\n"
   ]
  },
  {
   "cell_type": "markdown",
   "id": "a019a3ce",
   "metadata": {},
   "source": [
    "---\n",
    "### 3. 중첩 함수 (Nested Function)\n",
    "중첩 함수는 함수 안에 또 다른 함수를 정의하는 것."
   ]
  },
  {
   "cell_type": "code",
   "execution_count": 5,
   "id": "e06f0065",
   "metadata": {},
   "outputs": [
    {
     "name": "stdout",
     "output_type": "stream",
     "text": [
      "Inner\n"
     ]
    }
   ],
   "source": [
    "def outer():\n",
    "    def inner():\n",
    "        print(\"Inner\")\n",
    "    inner()\n",
    "\n",
    "outer()  # Inner\n"
   ]
  },
  {
   "cell_type": "markdown",
   "id": "b598354f",
   "metadata": {},
   "source": [
    "### 4. *args, **kwargs\n",
    "\n",
    "*args는 위치 인자(tuple), **kwargs는 키워드 인자(dict)를 의미해."
   ]
  },
  {
   "cell_type": "code",
   "execution_count": 6,
   "id": "996c6455",
   "metadata": {},
   "outputs": [
    {
     "name": "stdout",
     "output_type": "stream",
     "text": [
      "(1, 2)\n",
      "{'a': 3, 'b': 4}\n"
     ]
    }
   ],
   "source": [
    "def func(*args, **kwargs):\n",
    "    print(args)\n",
    "    print(kwargs)\n",
    "\n",
    "func(1, 2, a=3, b=4)\n",
    "# 출력:\n",
    "# (1, 2)\n",
    "# {'a': 3, 'b': 4}\n"
   ]
  },
  {
   "cell_type": "code",
   "execution_count": null,
   "id": "a7ad25ee",
   "metadata": {},
   "outputs": [],
   "source": []
  }
 ],
 "metadata": {
  "kernelspec": {
   "display_name": "Python 3",
   "language": "python",
   "name": "python3"
  },
  "language_info": {
   "codemirror_mode": {
    "name": "ipython",
    "version": 3
   },
   "file_extension": ".py",
   "mimetype": "text/x-python",
   "name": "python",
   "nbconvert_exporter": "python",
   "pygments_lexer": "ipython3",
   "version": "3.10.16"
  }
 },
 "nbformat": 4,
 "nbformat_minor": 5
}
